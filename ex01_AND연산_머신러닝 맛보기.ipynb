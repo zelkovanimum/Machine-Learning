{
 "cells": [
  {
   "cell_type": "markdown",
   "id": "a5a1a47c",
   "metadata": {},
   "source": [
    "### AND 연산\n",
    "- 문제정의  \n",
    "    훈련 데이터와 테스트 데이터 이해하기  \n",
    "    AND 연산의 결과를 도출하는 머신러닝 모델 학습하고 이해하기"
   ]
  },
  {
   "attachments": {
    "image.png": {
     "image/png": "[encoded data removed]"
    }
   },
   "cell_type": "markdown",
   "id": "18f117f7",
   "metadata": {},
   "source": [
    "![image.png](attachment:image.png)"
   ]
  },
  {
   "cell_type": "markdown",
   "id": "f9b43992",
   "metadata": {},
   "source": [
    "### 데이터 만들기"
   ]
  },
  {
   "cell_type": "code",
   "execution_count": 1,
   "id": "e765efda",
   "metadata": {
    "ExecuteTime": {
     "end_time": "2023-05-11T01:05:55.684062Z",
     "start_time": "2023-05-11T01:05:54.993006Z"
    }
   },
   "outputs": [],
   "source": [
    "# 필요한 도구 불러오기\n",
    "import pandas as pd"
   ]
  },
  {
   "cell_type": "code",
   "execution_count": 2,
   "id": "5c543441",
   "metadata": {
    "ExecuteTime": {
     "end_time": "2023-05-11T01:05:55.710016Z",
     "start_time": "2023-05-11T01:05:55.684062Z"
    }
   },
   "outputs": [
    {
     "data": {
      "text/html": [
       "<div>\n",
       "<style scoped>\n",
       "    .dataframe tbody tr th:only-of-type {\n",
       "        vertical-align: middle;\n",
       "    }\n",
       "\n",
       "    .dataframe tbody tr th {\n",
       "        vertical-align: top;\n",
       "    }\n",
       "\n",
       "    .dataframe thead th {\n",
       "        text-align: right;\n",
       "    }\n",
       "</style>\n",
       "<table border=\"1\" class=\"dataframe\">\n",
       "  <thead>\n",
       "    <tr style=\"text-align: right;\">\n",
       "      <th></th>\n",
       "      <th>A</th>\n",
       "      <th>B</th>\n",
       "      <th>AandB</th>\n",
       "    </tr>\n",
       "  </thead>\n",
       "  <tbody>\n",
       "    <tr>\n",
       "      <th>0</th>\n",
       "      <td>0</td>\n",
       "      <td>0</td>\n",
       "      <td>0</td>\n",
       "    </tr>\n",
       "    <tr>\n",
       "      <th>1</th>\n",
       "      <td>0</td>\n",
       "      <td>1</td>\n",
       "      <td>0</td>\n",
       "    </tr>\n",
       "    <tr>\n",
       "      <th>2</th>\n",
       "      <td>1</td>\n",
       "      <td>0</td>\n",
       "      <td>0</td>\n",
       "    </tr>\n",
       "    <tr>\n",
       "      <th>3</th>\n",
       "      <td>1</td>\n",
       "      <td>1</td>\n",
       "      <td>1</td>\n",
       "    </tr>\n",
       "    <tr>\n",
       "      <th>4</th>\n",
       "      <td>1</td>\n",
       "      <td>0</td>\n",
       "      <td>0</td>\n",
       "    </tr>\n",
       "    <tr>\n",
       "      <th>5</th>\n",
       "      <td>0</td>\n",
       "      <td>0</td>\n",
       "      <td>0</td>\n",
       "    </tr>\n",
       "    <tr>\n",
       "      <th>6</th>\n",
       "      <td>1</td>\n",
       "      <td>1</td>\n",
       "      <td>1</td>\n",
       "    </tr>\n",
       "    <tr>\n",
       "      <th>7</th>\n",
       "      <td>0</td>\n",
       "      <td>1</td>\n",
       "      <td>0</td>\n",
       "    </tr>\n",
       "  </tbody>\n",
       "</table>\n",
       "</div>"
      ],
      "text/plain": [
       "   A  B  AandB\n",
       "0  0  0      0\n",
       "1  0  1      0\n",
       "2  1  0      0\n",
       "3  1  1      1\n",
       "4  1  0      0\n",
       "5  0  0      0\n",
       "6  1  1      1\n",
       "7  0  1      0"
      ]
     },
     "execution_count": 2,
     "metadata": {},
     "output_type": "execute_result"
    }
   ],
   "source": [
    "# 데이터 프레임 형태로 만들기\n",
    "# 행 : 8, 열(컬럼) : 3\n",
    "\n",
    "# 딕셔너리 {} 안으로\n",
    "# 리스트 []\n",
    "\n",
    "df = pd.DataFrame({'A' : [0,0,1,1,1,0,1,0],\n",
    "                   'B' : [0,1,0,1,0,0,1,1],\n",
    "                   'AandB' : [0,0,0,1,0,0,1,0]})\n",
    "df"
   ]
  },
  {
   "cell_type": "markdown",
   "id": "79e26fdc",
   "metadata": {},
   "source": [
    "- 'A'와 'B' : 문제데이터, 특성, feature, 독립변수, X, 속성\n",
    "- 'AandB' : 정답데이터, target, label, 클래스, 종속변수,  y"
   ]
  },
  {
   "cell_type": "markdown",
   "id": "7c6e0d10",
   "metadata": {},
   "source": [
    "### 데이터 전처리\n",
    "- 컬럼인덱싱을 통해서 문제데이터(X)와 정답데이터(y)로 분리하기"
   ]
  },
  {
   "cell_type": "code",
   "execution_count": 3,
   "id": "65f995de",
   "metadata": {
    "ExecuteTime": {
     "end_time": "2023-05-11T01:05:55.725973Z",
     "start_time": "2023-05-11T01:05:55.712010Z"
    }
   },
   "outputs": [
    {
     "data": {
      "text/html": [
       "<div>\n",
       "<style scoped>\n",
       "    .dataframe tbody tr th:only-of-type {\n",
       "        vertical-align: middle;\n",
       "    }\n",
       "\n",
       "    .dataframe tbody tr th {\n",
       "        vertical-align: top;\n",
       "    }\n",
       "\n",
       "    .dataframe thead th {\n",
       "        text-align: right;\n",
       "    }\n",
       "</style>\n",
       "<table border=\"1\" class=\"dataframe\">\n",
       "  <thead>\n",
       "    <tr style=\"text-align: right;\">\n",
       "      <th></th>\n",
       "      <th>A</th>\n",
       "      <th>B</th>\n",
       "    </tr>\n",
       "  </thead>\n",
       "  <tbody>\n",
       "    <tr>\n",
       "      <th>0</th>\n",
       "      <td>0</td>\n",
       "      <td>0</td>\n",
       "    </tr>\n",
       "    <tr>\n",
       "      <th>1</th>\n",
       "      <td>0</td>\n",
       "      <td>1</td>\n",
       "    </tr>\n",
       "    <tr>\n",
       "      <th>2</th>\n",
       "      <td>1</td>\n",
       "      <td>0</td>\n",
       "    </tr>\n",
       "    <tr>\n",
       "      <th>3</th>\n",
       "      <td>1</td>\n",
       "      <td>1</td>\n",
       "    </tr>\n",
       "    <tr>\n",
       "      <th>4</th>\n",
       "      <td>1</td>\n",
       "      <td>0</td>\n",
       "    </tr>\n",
       "    <tr>\n",
       "      <th>5</th>\n",
       "      <td>0</td>\n",
       "      <td>0</td>\n",
       "    </tr>\n",
       "    <tr>\n",
       "      <th>6</th>\n",
       "      <td>1</td>\n",
       "      <td>1</td>\n",
       "    </tr>\n",
       "    <tr>\n",
       "      <th>7</th>\n",
       "      <td>0</td>\n",
       "      <td>1</td>\n",
       "    </tr>\n",
       "  </tbody>\n",
       "</table>\n",
       "</div>"
      ],
      "text/plain": [
       "   A  B\n",
       "0  0  0\n",
       "1  0  1\n",
       "2  1  0\n",
       "3  1  1\n",
       "4  1  0\n",
       "5  0  0\n",
       "6  1  1\n",
       "7  0  1"
      ]
     },
     "metadata": {},
     "output_type": "display_data"
    },
    {
     "data": {
      "text/plain": [
       "0    0\n",
       "1    0\n",
       "2    0\n",
       "3    1\n",
       "4    0\n",
       "5    0\n",
       "6    1\n",
       "7    0\n",
       "Name: AandB, dtype: int64"
      ]
     },
     "metadata": {},
     "output_type": "display_data"
    }
   ],
   "source": [
    "# '문제 데이터' 가져오기 A,B \n",
    "X = df[['A','B']]\n",
    "\n",
    "# 문자인덱싱! df.loc[행,열] \n",
    "# => df.loc[:,'A':'B']  문자로 슬라이싱은 끝값을 포함\n",
    "# df.loc[:, ['A','B']]\n",
    "# 숫자 인덱싱 df.iloc[행, 열] \n",
    "# => df.iloc[:,:2] *2로 적어준다. , df.iloc[:, 0,1]\n",
    "\n",
    "# X = DataFrame 형태\n",
    "\n",
    "# '정답 데이터'\n",
    "y = df['AandB']\n",
    "# y 는 numpy의 array 형태\n",
    "\n",
    "display(X)\n",
    "display(y)"
   ]
  },
  {
   "cell_type": "markdown",
   "id": "e1413eed",
   "metadata": {},
   "source": [
    "#### 학습을 위해 '훈련용 데이터'와 '테스트용 데이터'로 분할\n",
    "- 학습(훈련), 검증(테스트)"
   ]
  },
  {
   "cell_type": "code",
   "execution_count": 17,
   "id": "24e6a854",
   "metadata": {
    "ExecuteTime": {
     "end_time": "2023-05-11T03:22:51.033338Z",
     "start_time": "2023-05-11T03:22:51.018411Z"
    }
   },
   "outputs": [
    {
     "data": {
      "text/html": [
       "<div>\n",
       "<style scoped>\n",
       "    .dataframe tbody tr th:only-of-type {\n",
       "        vertical-align: middle;\n",
       "    }\n",
       "\n",
       "    .dataframe tbody tr th {\n",
       "        vertical-align: top;\n",
       "    }\n",
       "\n",
       "    .dataframe thead th {\n",
       "        text-align: right;\n",
       "    }\n",
       "</style>\n",
       "<table border=\"1\" class=\"dataframe\">\n",
       "  <thead>\n",
       "    <tr style=\"text-align: right;\">\n",
       "      <th></th>\n",
       "      <th>A</th>\n",
       "      <th>B</th>\n",
       "    </tr>\n",
       "  </thead>\n",
       "  <tbody>\n",
       "    <tr>\n",
       "      <th>0</th>\n",
       "      <td>0</td>\n",
       "      <td>0</td>\n",
       "    </tr>\n",
       "    <tr>\n",
       "      <th>1</th>\n",
       "      <td>0</td>\n",
       "      <td>1</td>\n",
       "    </tr>\n",
       "    <tr>\n",
       "      <th>2</th>\n",
       "      <td>1</td>\n",
       "      <td>0</td>\n",
       "    </tr>\n",
       "    <tr>\n",
       "      <th>3</th>\n",
       "      <td>1</td>\n",
       "      <td>1</td>\n",
       "    </tr>\n",
       "    <tr>\n",
       "      <th>4</th>\n",
       "      <td>1</td>\n",
       "      <td>0</td>\n",
       "    </tr>\n",
       "    <tr>\n",
       "      <th>5</th>\n",
       "      <td>0</td>\n",
       "      <td>0</td>\n",
       "    </tr>\n",
       "  </tbody>\n",
       "</table>\n",
       "</div>"
      ],
      "text/plain": [
       "   A  B\n",
       "0  0  0\n",
       "1  0  1\n",
       "2  1  0\n",
       "3  1  1\n",
       "4  1  0\n",
       "5  0  0"
      ]
     },
     "execution_count": 17,
     "metadata": {},
     "output_type": "execute_result"
    }
   ],
   "source": [
    "# 훈련용 데이터 : X, y ==> 0-5 까지 포함해서 행 슬라이싱\n",
    "# 테스트용 데이터 : X, y ==> 6-7 까지 행 슬라이싱\n",
    "\n",
    "X_train = X.iloc[:6]\n",
    "X_test = X.iloc[6:]\n",
    "y_train = y.iloc[:6]\n",
    "y_test =y.iloc[6:]\n",
    "X_train"
   ]
  },
  {
   "cell_type": "code",
   "execution_count": 5,
   "id": "a2adce35",
   "metadata": {
    "ExecuteTime": {
     "end_time": "2023-05-11T01:05:55.758976Z",
     "start_time": "2023-05-11T01:05:55.742941Z"
    }
   },
   "outputs": [
    {
     "name": "stdout",
     "output_type": "stream",
     "text": [
      "훈련용 문제 :  (6, 2)\n",
      "훈련용 답 :  (6,)\n",
      "테스트용 문제 :  (2, 2)\n",
      "테스트용 답 :  (2,)\n"
     ]
    }
   ],
   "source": [
    "# 데이터 크기 확인 -> shape\n",
    "print('훈련용 문제 : ',X_train.shape)\n",
    "print('훈련용 답 : ',y_train.shape)\n",
    "print('테스트용 문제 : ',X_test.shape)\n",
    "print('테스트용 답 : ',y_test.shape)"
   ]
  },
  {
   "cell_type": "markdown",
   "id": "c60583ce",
   "metadata": {},
   "source": [
    "### 머신러닝 모델 학습하기"
   ]
  },
  {
   "cell_type": "markdown",
   "id": "daec042a",
   "metadata": {},
   "source": [
    "#### 학습하기 위한 머신러닝 모델 불러오기"
   ]
  },
  {
   "cell_type": "code",
   "execution_count": 6,
   "id": "bb4cafd2",
   "metadata": {
    "ExecuteTime": {
     "end_time": "2023-05-11T01:05:56.958970Z",
     "start_time": "2023-05-11T01:05:55.758976Z"
    }
   },
   "outputs": [],
   "source": [
    "# scikit-learn : 머신러닝용 패키지 라이브러리 불러오기\n",
    "from sklearn.neighbors import KNeighborsClassifier # KNN 분류 모델"
   ]
  },
  {
   "cell_type": "markdown",
   "id": "6f3c7ce5",
   "metadata": {},
   "source": [
    "#### 모델 생성 및 하이퍼 파라미터 정의(튜닝)"
   ]
  },
  {
   "cell_type": "code",
   "execution_count": 7,
   "id": "757f305b",
   "metadata": {
    "ExecuteTime": {
     "end_time": "2023-05-11T01:05:56.974670Z",
     "start_time": "2023-05-11T01:05:56.958970Z"
    }
   },
   "outputs": [],
   "source": [
    "knn_model = KNeighborsClassifier(n_neighbors=1)\n",
    "\n",
    "# n_neighbors : 하이퍼 파라미터 - 사용자가 입력하는 매개변수\n",
    "# 하이퍼 파라미터에 따라서 모델 학습이 달라진다.\n",
    "\n",
    "# n_neighbors 가 5 이면 예를 들어 0이 3개 1이 두개 \n",
    "# 내 이웃의 갯수로 나를 판단하는 것. \n",
    "\n",
    "# 내 이웃이 1이많다- 나는 1 & 0이 많다- 나는 0.\n",
    "# 가장 가까운 이웃들의 실제 답을 확인하고 그 답이 내것인것 처럼 사용\n",
    "# n_neighbors = 1 : 가장 가까운 이웃 1개의 실제 답을 확인하겠다."
   ]
  },
  {
   "cell_type": "markdown",
   "id": "3108d357",
   "metadata": {},
   "source": [
    "#### 모델 학습"
   ]
  },
  {
   "cell_type": "code",
   "execution_count": 8,
   "id": "1454e120",
   "metadata": {
    "ExecuteTime": {
     "end_time": "2023-05-11T01:05:56.990073Z",
     "start_time": "2023-05-11T01:05:56.976666Z"
    }
   },
   "outputs": [
    {
     "data": {
      "text/plain": [
       "KNeighborsClassifier(n_neighbors=1)"
      ]
     },
     "execution_count": 8,
     "metadata": {},
     "output_type": "execute_result"
    }
   ],
   "source": [
    "# fit() 사용\n",
    "# fit(훈련용 문제, 훈련용 답)\n",
    "knn_model.fit(X_train, y_train) # 훈련용 데이터에 맞춰서 학습 - 지도학습(문제,답)"
   ]
  },
  {
   "cell_type": "markdown",
   "id": "90076d8a",
   "metadata": {},
   "source": [
    "#### AND 연산 예측 - 지도 학습"
   ]
  },
  {
   "cell_type": "code",
   "execution_count": 9,
   "id": "9406e783",
   "metadata": {
    "ExecuteTime": {
     "end_time": "2023-05-11T01:05:57.005302Z",
     "start_time": "2023-05-11T01:05:56.992066Z"
    }
   },
   "outputs": [
    {
     "data": {
      "text/html": [
       "<div>\n",
       "<style scoped>\n",
       "    .dataframe tbody tr th:only-of-type {\n",
       "        vertical-align: middle;\n",
       "    }\n",
       "\n",
       "    .dataframe tbody tr th {\n",
       "        vertical-align: top;\n",
       "    }\n",
       "\n",
       "    .dataframe thead th {\n",
       "        text-align: right;\n",
       "    }\n",
       "</style>\n",
       "<table border=\"1\" class=\"dataframe\">\n",
       "  <thead>\n",
       "    <tr style=\"text-align: right;\">\n",
       "      <th></th>\n",
       "      <th>A</th>\n",
       "      <th>B</th>\n",
       "    </tr>\n",
       "  </thead>\n",
       "  <tbody>\n",
       "    <tr>\n",
       "      <th>6</th>\n",
       "      <td>1</td>\n",
       "      <td>1</td>\n",
       "    </tr>\n",
       "    <tr>\n",
       "      <th>7</th>\n",
       "      <td>0</td>\n",
       "      <td>1</td>\n",
       "    </tr>\n",
       "  </tbody>\n",
       "</table>\n",
       "</div>"
      ],
      "text/plain": [
       "   A  B\n",
       "6  1  1\n",
       "7  0  1"
      ]
     },
     "execution_count": 9,
     "metadata": {},
     "output_type": "execute_result"
    }
   ],
   "source": [
    "X_test"
   ]
  },
  {
   "cell_type": "code",
   "execution_count": 15,
   "id": "8fe68842",
   "metadata": {
    "ExecuteTime": {
     "end_time": "2023-05-11T01:12:46.539581Z",
     "start_time": "2023-05-11T01:12:46.523570Z"
    }
   },
   "outputs": [
    {
     "name": "stderr",
     "output_type": "stream",
     "text": [
      "C:\\Users\\smhrd\\anaconda3\\lib\\site-packages\\sklearn\\neighbors\\_classification.py:228: FutureWarning: Unlike other reduction functions (e.g. `skew`, `kurtosis`), the default behavior of `mode` typically preserves the axis it acts along. In SciPy 1.11.0, this behavior will change: the default value of `keepdims` will become False, the `axis` over which the statistic is taken will be eliminated, and the value None will no longer be accepted. Set `keepdims` to True or False to avoid this warning.\n",
      "  mode, _ = stats.mode(_y[neigh_ind, k], axis=1)\n"
     ]
    },
    {
     "data": {
      "text/plain": [
       "array([1, 0], dtype=int64)"
      ]
     },
     "execution_count": 15,
     "metadata": {},
     "output_type": "execute_result"
    }
   ],
   "source": [
    "# and 연산 예측\n",
    "# 0과 1 두 수가 데이터로 주어짐 = 회귀\n",
    "\n",
    "# 0,0 ->0\n",
    "# 0,1 ->0\n",
    "# 1,0 ->0\n",
    "# 1,1 ->1\n",
    "\n",
    "# predict(테스트용 문제)\n",
    "pre = knn_model.predict(X_test)  \n",
    "pre # 결과를 활용하기 위해 변수에 담기 (예측치임, 정확한 정답은 아님)"
   ]
  },
  {
   "cell_type": "code",
   "execution_count": 11,
   "id": "27b4b462",
   "metadata": {
    "ExecuteTime": {
     "end_time": "2023-05-11T01:05:57.036600Z",
     "start_time": "2023-05-11T01:05:57.020978Z"
    }
   },
   "outputs": [
    {
     "data": {
      "text/html": [
       "<div>\n",
       "<style scoped>\n",
       "    .dataframe tbody tr th:only-of-type {\n",
       "        vertical-align: middle;\n",
       "    }\n",
       "\n",
       "    .dataframe tbody tr th {\n",
       "        vertical-align: top;\n",
       "    }\n",
       "\n",
       "    .dataframe thead th {\n",
       "        text-align: right;\n",
       "    }\n",
       "</style>\n",
       "<table border=\"1\" class=\"dataframe\">\n",
       "  <thead>\n",
       "    <tr style=\"text-align: right;\">\n",
       "      <th></th>\n",
       "      <th>A</th>\n",
       "      <th>B</th>\n",
       "    </tr>\n",
       "  </thead>\n",
       "  <tbody>\n",
       "    <tr>\n",
       "      <th>6</th>\n",
       "      <td>1</td>\n",
       "      <td>1</td>\n",
       "    </tr>\n",
       "    <tr>\n",
       "      <th>7</th>\n",
       "      <td>0</td>\n",
       "      <td>1</td>\n",
       "    </tr>\n",
       "  </tbody>\n",
       "</table>\n",
       "</div>"
      ],
      "text/plain": [
       "   A  B\n",
       "6  1  1\n",
       "7  0  1"
      ]
     },
     "execution_count": 11,
     "metadata": {},
     "output_type": "execute_result"
    }
   ],
   "source": [
    "X_test"
   ]
  },
  {
   "cell_type": "code",
   "execution_count": 12,
   "id": "477812aa",
   "metadata": {
    "ExecuteTime": {
     "end_time": "2023-05-11T01:05:57.053513Z",
     "start_time": "2023-05-11T01:05:57.037887Z"
    }
   },
   "outputs": [
    {
     "data": {
      "text/plain": [
       "6    1\n",
       "7    0\n",
       "Name: AandB, dtype: int64"
      ]
     },
     "execution_count": 12,
     "metadata": {},
     "output_type": "execute_result"
    }
   ],
   "source": [
    "# test 용 정답\n",
    "y_test"
   ]
  },
  {
   "cell_type": "markdown",
   "id": "5fbd8d58",
   "metadata": {},
   "source": [
    "### 평가 "
   ]
  },
  {
   "cell_type": "markdown",
   "id": "0f635e57",
   "metadata": {},
   "source": [
    "#### 모델 평가하는 모듈 불러오기"
   ]
  },
  {
   "cell_type": "code",
   "execution_count": 13,
   "id": "7bfcbb00",
   "metadata": {
    "ExecuteTime": {
     "end_time": "2023-05-11T01:10:05.688303Z",
     "start_time": "2023-05-11T01:10:05.670187Z"
    }
   },
   "outputs": [],
   "source": [
    "from sklearn.metrics import accuracy_score # 정확도 점수 (모델 성능 평가 지표)"
   ]
  },
  {
   "cell_type": "code",
   "execution_count": 16,
   "id": "e845681c",
   "metadata": {
    "ExecuteTime": {
     "end_time": "2023-05-11T01:12:49.587489Z",
     "start_time": "2023-05-11T01:12:49.556607Z"
    }
   },
   "outputs": [
    {
     "data": {
      "text/plain": [
       "1.0"
      ]
     },
     "execution_count": 16,
     "metadata": {},
     "output_type": "execute_result"
    }
   ],
   "source": [
    "# 정확도? \n",
    "# 정답 -> 예측\n",
    "# 0-> 0 (정답)\n",
    "# 1-> 1 (정답)\n",
    "# 1-> 0 (오류)\n",
    "# accuracy_score : 모델이 가지고 있는 함수가 아니고 그냥 함수 자체적으로 역할\n",
    "\n",
    "# accuracy_score(실제답, 예측값)\n",
    "\n",
    "accuracy_score(y_test, pre) # 확률 정보로 값을 표시 \n",
    "# 1.0 -> 100%맞췄다는 의미 (모델의 성능이 괜찮다)\n",
    "# 0.0 에 가까울수록 모델의 성능이 좋지 못하다고 판단\n",
    "\n"
   ]
  },
  {
   "cell_type": "code",
   "execution_count": null,
   "id": "f155ac0a",
   "metadata": {},
   "outputs": [],
   "source": []
  },
  {
   "cell_type": "code",
   "execution_count": null,
   "id": "2645b6b5",
   "metadata": {},
   "outputs": [],
   "source": []
  },
  {
   "cell_type": "code",
   "execution_count": null,
   "id": "99226ed5",
   "metadata": {},
   "outputs": [],
   "source": []
  },
  {
   "cell_type": "code",
   "execution_count": null,
   "id": "0cf8c58b",
   "metadata": {},
   "outputs": [],
   "source": []
  },
  {
   "cell_type": "code",
   "execution_count": null,
   "id": "27fe9d17",
   "metadata": {},
   "outputs": [],
   "source": []
  },
  {
   "cell_type": "code",
   "execution_count": null,
   "id": "c8ff42ab",
   "metadata": {},
   "outputs": [],
   "source": []
  },
  {
   "cell_type": "code",
   "execution_count": null,
   "id": "a6fcc09b",
   "metadata": {},
   "outputs": [],
   "source": []
  },
  {
   "cell_type": "code",
   "execution_count": null,
   "id": "b3f30d63",
   "metadata": {},
   "outputs": [],
   "source": []
  },
  {
   "cell_type": "code",
   "execution_count": null,
   "id": "f26f903f",
   "metadata": {},
   "outputs": [],
   "source": []
  }
 ],
 "metadata": {
  "kernelspec": {
   "display_name": "Python 3 (ipykernel)",
   "language": "python",
   "name": "python3"
  },
  "language_info": {
   "codemirror_mode": {
    "name": "ipython",
    "version": 3
   },
   "file_extension": ".py",
   "mimetype": "text/x-python",
   "name": "python",
   "nbconvert_exporter": "python",
   "pygments_lexer": "ipython3",
   "version": "3.9.13"
  },
  "toc": {
   "base_numbering": 1,
   "nav_menu": {
    "height": "263px",
    "width": "451px"
   },
   "number_sections": true,
   "sideBar": true,
   "skip_h1_title": false,
   "title_cell": "Table of Contents",
   "title_sidebar": "Contents",
   "toc_cell": false,
   "toc_position": {},
   "toc_section_display": true,
   "toc_window_display": false
  },
  "varInspector": {
   "cols": {
    "lenName": 16,
    "lenType": 16,
    "lenVar": 40
   },
   "kernels_config": {
    "python": {
     "delete_cmd_postfix": "",
     "delete_cmd_prefix": "del ",
     "library": "var_list.py",
     "varRefreshCmd": "print(var_dic_list())"
    },
    "r": {
     "delete_cmd_postfix": ") ",
     "delete_cmd_prefix": "rm(",
     "library": "var_list.r",
     "varRefreshCmd": "cat(var_dic_list()) "
    }
   },
   "types_to_exclude": [
    "module",
    "function",
    "builtin_function_or_method",
    "instance",
    "_Feature"
   ],
   "window_display": false
  }
 },
 "nbformat": 4,
 "nbformat_minor": 5
}
